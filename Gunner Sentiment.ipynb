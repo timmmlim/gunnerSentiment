{
 "cells": [
  {
   "cell_type": "markdown",
   "metadata": {},
   "source": [
    "### Data Scraping\n",
    "\n",
    "Using PRAW to scrape post-match threads from r/gunners"
   ]
  },
  {
   "cell_type": "code",
   "execution_count": 1,
   "metadata": {},
   "outputs": [],
   "source": [
    "import pandas as pd\n",
    "import configparser\n",
    "import praw\n",
    "import datetime as dt\n",
    "\n",
    "config = configparser.ConfigParser()\n",
    "config.read(r\"C:\\Users\\Timothy Lim\\Documents\\credentials.ini\")\n",
    "preload = True\n",
    "\n",
    "credentials = config['reddit credentials']\n",
    "\n",
    "# login\n",
    "reddit = praw.Reddit(\n",
    "    client_id=credentials['client_id'],\n",
    "    client_secret=credentials['client_secret'],\n",
    "    username=credentials['username'],\n",
    "    password=credentials['password'],\n",
    "    user_agent=f\"testscript by u/{credentials['username']}\"\n",
    ")\n",
    "\n",
    "\n",
    "# print(reddit.user.me())"
   ]
  },
  {
   "cell_type": "code",
   "execution_count": 2,
   "metadata": {},
   "outputs": [],
   "source": [
    "# obtain the relevant posts\n",
    "gunners = reddit.subreddit('gunners')\n",
    "postMatch = list(gunners.search(query='flair_name:\"Post-Match Thread\"', sort='new'))"
   ]
  },
  {
   "cell_type": "code",
   "execution_count": 3,
   "metadata": {},
   "outputs": [
    {
     "name": "stdout",
     "output_type": "stream",
     "text": [
      "utc create unix time: 1621788568.0\n",
      "utc time: 2021-05-23 16:49:28\n",
      "post title: Post Match Thread: Arsenal 2 - 0 Brighton & Hove Albion [English Premier League]\n"
     ]
    }
   ],
   "source": [
    "# example post\n",
    "\n",
    "post = postMatch[0]\n",
    "created_unix = post.created_utc  # unix timestamp\n",
    "created_time = dt.datetime.utcfromtimestamp(created_unix)\n",
    "print(f'utc create unix time: {created_unix}')\n",
    "print(f'utc time: {created_time}')\n",
    "\n",
    "print(f'post title: {post.title}')"
   ]
  },
  {
   "cell_type": "markdown",
   "metadata": {},
   "source": [
    "PRAW Submission documentation: https://praw.readthedocs.io/en/latest/code_overview/models/submission.html?highlight=praw.models.reddit.submission.Submission"
   ]
  },
  {
   "cell_type": "code",
   "execution_count": 4,
   "metadata": {},
   "outputs": [
    {
     "name": "stderr",
     "output_type": "stream",
     "text": [
      "C:\\Users\\Timothy Lim\\Anaconda3\\lib\\site-packages\\ipykernel_launcher.py:11: SettingWithCopyWarning: \n",
      "A value is trying to be set on a copy of a slice from a DataFrame.\n",
      "Try using .loc[row_indexer,col_indexer] = value instead\n",
      "\n",
      "See the caveats in the documentation: https://pandas.pydata.org/pandas-docs/stable/user_guide/indexing.html#returning-a-view-versus-a-copy\n",
      "  # This is added back by InteractiveShellApp.init_path()\n",
      "C:\\Users\\Timothy Lim\\Anaconda3\\lib\\site-packages\\ipykernel_launcher.py:12: SettingWithCopyWarning: \n",
      "A value is trying to be set on a copy of a slice from a DataFrame.\n",
      "Try using .loc[row_indexer,col_indexer] = value instead\n",
      "\n",
      "See the caveats in the documentation: https://pandas.pydata.org/pandas-docs/stable/user_guide/indexing.html#returning-a-view-versus-a-copy\n",
      "  if sys.path[0] == '':\n"
     ]
    },
    {
     "data": {
      "text/plain": [
       "Date        2021-05-23\n",
       "HomeTeam       Arsenal\n",
       "AwayTeam      Brighton\n",
       "FTHG                 2\n",
       "FTAG                 0\n",
       "FTR                  H\n",
       "HTHG                 0\n",
       "HTAG                 0\n",
       "HTR                  D\n",
       "Name: 370, dtype: object"
      ]
     },
     "execution_count": 4,
     "metadata": {},
     "output_type": "execute_result"
    }
   ],
   "source": [
    "# EPL results: https://www.football-data.co.uk/englandm.php\n",
    "\n",
    "matchResults = pd.read_csv('E0.csv',\n",
    "                           usecols=['Date', 'HomeTeam', 'AwayTeam',\n",
    "                                    'FTHG', 'FTAG', 'FTR', 'HTHG', \n",
    "                                    'HTAG', 'HTR'])\n",
    "\n",
    "gunner_mask = (matchResults['HomeTeam']=='Arsenal') | (matchResults['AwayTeam']=='Arsenal')\n",
    "gunnerResults = matchResults[gunner_mask]\n",
    "\n",
    "gunnerResults['Date'] = gunnerResults['Date'].apply(lambda x: dt.datetime.strptime(x, '%d/%m/%Y'))\n",
    "gunnerResults['Date'] = gunnerResults['Date'].apply(lambda x: x.date())\n",
    "\n",
    "gunnerResults.iloc[-1,:]"
   ]
  },
  {
   "cell_type": "code",
   "execution_count": 5,
   "metadata": {},
   "outputs": [
    {
     "data": {
      "text/plain": [
       "datetime.date(2020, 9, 12)"
      ]
     },
     "execution_count": 5,
     "metadata": {},
     "output_type": "execute_result"
    }
   ],
   "source": [
    "gunnerResults['Date'].min()"
   ]
  },
  {
   "cell_type": "code",
   "execution_count": 6,
   "metadata": {
    "scrolled": true
   },
   "outputs": [
    {
     "data": {
      "text/plain": [
       "datetime.date(2021, 5, 23)"
      ]
     },
     "execution_count": 6,
     "metadata": {},
     "output_type": "execute_result"
    }
   ],
   "source": [
    "gunnerResults['Date'].max()"
   ]
  },
  {
   "cell_type": "code",
   "execution_count": 9,
   "metadata": {},
   "outputs": [
    {
     "data": {
      "text/plain": [
       "(36, 10)"
      ]
     },
     "execution_count": 9,
     "metadata": {},
     "output_type": "execute_result"
    }
   ],
   "source": [
    "# post <-> match result mapping\n",
    "if preload:\n",
    "    post_df = pd.read_pickle('post_df.pkl')\n",
    "\n",
    "else:\n",
    "    post_df = pd.DataFrame()\n",
    "\n",
    "    # helper variables\n",
    "    valid_dates = gunnerResults['Date'].unique()\n",
    "    counter = 0\n",
    "\n",
    "    for post in postMatch:\n",
    "        post_date = dt.datetime.utcfromtimestamp(post.created_utc)\n",
    "\n",
    "        # check if post date matches the epl results from the 20/21 season\n",
    "        if post_date.date() in valid_dates:\n",
    "            counter += 1\n",
    "            row = gunnerResults[gunnerResults['Date']==post_date.date()]\n",
    "            row['post'] = post\n",
    "            post_df = post_df.append(row)\n",
    "\n",
    "            if counter == 38:\n",
    "                break\n",
    "        \n",
    "    post_df.to_pickle('post_df.pkl')\n",
    "\n",
    "post_df.shape"
   ]
  },
  {
   "cell_type": "code",
   "execution_count": 10,
   "metadata": {},
   "outputs": [
    {
     "data": {
      "text/html": [
       "<div>\n",
       "<style scoped>\n",
       "    .dataframe tbody tr th:only-of-type {\n",
       "        vertical-align: middle;\n",
       "    }\n",
       "\n",
       "    .dataframe tbody tr th {\n",
       "        vertical-align: top;\n",
       "    }\n",
       "\n",
       "    .dataframe thead th {\n",
       "        text-align: right;\n",
       "    }\n",
       "</style>\n",
       "<table border=\"1\" class=\"dataframe\">\n",
       "  <thead>\n",
       "    <tr style=\"text-align: right;\">\n",
       "      <th></th>\n",
       "      <th>Date</th>\n",
       "      <th>HomeTeam</th>\n",
       "      <th>AwayTeam</th>\n",
       "      <th>FTHG</th>\n",
       "      <th>FTAG</th>\n",
       "      <th>FTR</th>\n",
       "      <th>HTHG</th>\n",
       "      <th>HTAG</th>\n",
       "      <th>HTR</th>\n",
       "    </tr>\n",
       "  </thead>\n",
       "  <tbody>\n",
       "    <tr>\n",
       "      <th>40</th>\n",
       "      <td>2020-10-17</td>\n",
       "      <td>Man City</td>\n",
       "      <td>Arsenal</td>\n",
       "      <td>1</td>\n",
       "      <td>0</td>\n",
       "      <td>H</td>\n",
       "      <td>1</td>\n",
       "      <td>0</td>\n",
       "      <td>H</td>\n",
       "    </tr>\n",
       "    <tr>\n",
       "      <th>95</th>\n",
       "      <td>2020-11-29</td>\n",
       "      <td>Arsenal</td>\n",
       "      <td>Wolves</td>\n",
       "      <td>1</td>\n",
       "      <td>2</td>\n",
       "      <td>A</td>\n",
       "      <td>1</td>\n",
       "      <td>2</td>\n",
       "      <td>A</td>\n",
       "    </tr>\n",
       "  </tbody>\n",
       "</table>\n",
       "</div>"
      ],
      "text/plain": [
       "          Date  HomeTeam AwayTeam  FTHG  FTAG FTR  HTHG  HTAG HTR\n",
       "40  2020-10-17  Man City  Arsenal     1     0   H     1     0   H\n",
       "95  2020-11-29   Arsenal   Wolves     1     2   A     1     2   A"
      ]
     },
     "execution_count": 10,
     "metadata": {},
     "output_type": "execute_result"
    }
   ],
   "source": [
    "# missing posts\n",
    "found = gunnerResults['Date'].isin(post_df['Date'])\n",
    "gunnerResults[~found]"
   ]
  },
  {
   "cell_type": "code",
   "execution_count": 11,
   "metadata": {},
   "outputs": [
    {
     "name": "stderr",
     "output_type": "stream",
     "text": [
      "C:\\Users\\Timothy Lim\\Anaconda3\\lib\\site-packages\\ipykernel_launcher.py:8: SettingWithCopyWarning: \n",
      "A value is trying to be set on a copy of a slice from a DataFrame.\n",
      "Try using .loc[row_indexer,col_indexer] = value instead\n",
      "\n",
      "See the caveats in the documentation: https://pandas.pydata.org/pandas-docs/stable/user_guide/indexing.html#returning-a-view-versus-a-copy\n",
      "  \n"
     ]
    },
    {
     "data": {
      "text/plain": [
       "(38, 10)"
      ]
     },
     "execution_count": 11,
     "metadata": {},
     "output_type": "execute_result"
    }
   ],
   "source": [
    "# manually get missing posts\n",
    "missing_ids = ['k3hiw3', 'jd0b73']\n",
    "\n",
    "for missing_id in missing_ids:\n",
    "    post = reddit.submission(id=missing_id)\n",
    "    post_date = dt.datetime.utcfromtimestamp(post.created_utc)\n",
    "    row = gunnerResults[gunnerResults['Date']==post_date.date()]\n",
    "    row['post'] = post\n",
    "    post_df = post_df.append(row)\n",
    "\n",
    "post_df.shape"
   ]
  },
  {
   "cell_type": "code",
   "execution_count": 12,
   "metadata": {},
   "outputs": [
    {
     "data": {
      "text/html": [
       "<div>\n",
       "<style scoped>\n",
       "    .dataframe tbody tr th:only-of-type {\n",
       "        vertical-align: middle;\n",
       "    }\n",
       "\n",
       "    .dataframe tbody tr th {\n",
       "        vertical-align: top;\n",
       "    }\n",
       "\n",
       "    .dataframe thead th {\n",
       "        text-align: right;\n",
       "    }\n",
       "</style>\n",
       "<table border=\"1\" class=\"dataframe\">\n",
       "  <thead>\n",
       "    <tr style=\"text-align: right;\">\n",
       "      <th></th>\n",
       "      <th>Date</th>\n",
       "      <th>HomeTeam</th>\n",
       "      <th>AwayTeam</th>\n",
       "      <th>FTHG</th>\n",
       "      <th>FTAG</th>\n",
       "      <th>FTR</th>\n",
       "      <th>HTHG</th>\n",
       "      <th>HTAG</th>\n",
       "      <th>HTR</th>\n",
       "      <th>post</th>\n",
       "    </tr>\n",
       "  </thead>\n",
       "  <tbody>\n",
       "    <tr>\n",
       "      <th>0</th>\n",
       "      <td>2020-09-12</td>\n",
       "      <td>Fulham</td>\n",
       "      <td>Arsenal</td>\n",
       "      <td>0</td>\n",
       "      <td>3</td>\n",
       "      <td>A</td>\n",
       "      <td>0</td>\n",
       "      <td>1</td>\n",
       "      <td>A</td>\n",
       "      <td>ircjx0</td>\n",
       "    </tr>\n",
       "    <tr>\n",
       "      <th>11</th>\n",
       "      <td>2020-09-19</td>\n",
       "      <td>Arsenal</td>\n",
       "      <td>West Ham</td>\n",
       "      <td>2</td>\n",
       "      <td>1</td>\n",
       "      <td>H</td>\n",
       "      <td>1</td>\n",
       "      <td>1</td>\n",
       "      <td>D</td>\n",
       "      <td>iw0l0p</td>\n",
       "    </tr>\n",
       "    <tr>\n",
       "      <th>27</th>\n",
       "      <td>2020-09-28</td>\n",
       "      <td>Liverpool</td>\n",
       "      <td>Arsenal</td>\n",
       "      <td>3</td>\n",
       "      <td>1</td>\n",
       "      <td>H</td>\n",
       "      <td>2</td>\n",
       "      <td>1</td>\n",
       "      <td>H</td>\n",
       "      <td>j1knlt</td>\n",
       "    </tr>\n",
       "    <tr>\n",
       "      <th>34</th>\n",
       "      <td>2020-10-04</td>\n",
       "      <td>Arsenal</td>\n",
       "      <td>Sheffield United</td>\n",
       "      <td>2</td>\n",
       "      <td>1</td>\n",
       "      <td>H</td>\n",
       "      <td>0</td>\n",
       "      <td>0</td>\n",
       "      <td>D</td>\n",
       "      <td>j505r8</td>\n",
       "    </tr>\n",
       "    <tr>\n",
       "      <th>40</th>\n",
       "      <td>2020-10-17</td>\n",
       "      <td>Man City</td>\n",
       "      <td>Arsenal</td>\n",
       "      <td>1</td>\n",
       "      <td>0</td>\n",
       "      <td>H</td>\n",
       "      <td>1</td>\n",
       "      <td>0</td>\n",
       "      <td>H</td>\n",
       "      <td>jd0b73</td>\n",
       "    </tr>\n",
       "  </tbody>\n",
       "</table>\n",
       "</div>"
      ],
      "text/plain": [
       "          Date   HomeTeam          AwayTeam  FTHG  FTAG FTR  HTHG  HTAG HTR  \\\n",
       "0   2020-09-12     Fulham           Arsenal     0     3   A     0     1   A   \n",
       "11  2020-09-19    Arsenal          West Ham     2     1   H     1     1   D   \n",
       "27  2020-09-28  Liverpool           Arsenal     3     1   H     2     1   H   \n",
       "34  2020-10-04    Arsenal  Sheffield United     2     1   H     0     0   D   \n",
       "40  2020-10-17   Man City           Arsenal     1     0   H     1     0   H   \n",
       "\n",
       "      post  \n",
       "0   ircjx0  \n",
       "11  iw0l0p  \n",
       "27  j1knlt  \n",
       "34  j505r8  \n",
       "40  jd0b73  "
      ]
     },
     "execution_count": 12,
     "metadata": {},
     "output_type": "execute_result"
    }
   ],
   "source": [
    "post_df.sort_values(by=['Date'], inplace=True)\n",
    "post_df.head()"
   ]
  },
  {
   "cell_type": "code",
   "execution_count": 13,
   "metadata": {},
   "outputs": [
    {
     "name": "stdout",
     "output_type": "stream",
     "text": [
      "(11160, 6)\n"
     ]
    }
   ],
   "source": [
    "# create comments dataframe\n",
    "from progressbar import ProgressBar\n",
    "\n",
    "comments_df = pd.DataFrame()\n",
    "pbar = ProgressBar()\n",
    "\n",
    "if preload:\n",
    "    comments_df = pd.read_pickle('comments_df.pkl')\n",
    "    \n",
    "else:\n",
    "    for post in pbar(post_df['post']):\n",
    "        post_comments = post.comments  # returns a CommentForest\n",
    "\n",
    "        for comment in post_comments:\n",
    "\n",
    "            try:\n",
    "                row = {\n",
    "                    'author': comment.author,\n",
    "                    'body': comment.body,\n",
    "                    'n_replies': len(comment.replies),\n",
    "                    'score': comment.score,\n",
    "                    'comment': comment,\n",
    "                    'post': post\n",
    "                }\n",
    "\n",
    "                comments_df = comments_df.append(pd.Series(row), ignore_index=True)\n",
    "\n",
    "            except AttributeError:\n",
    "                # MoreComments\n",
    "                continue\n",
    "\n",
    "    comments_df.to_pickle('comments_df.pkl')\n",
    "    \n",
    "print(comments_df.shape)"
   ]
  },
  {
   "cell_type": "code",
   "execution_count": 14,
   "metadata": {},
   "outputs": [
    {
     "data": {
      "text/html": [
       "<div>\n",
       "<style scoped>\n",
       "    .dataframe tbody tr th:only-of-type {\n",
       "        vertical-align: middle;\n",
       "    }\n",
       "\n",
       "    .dataframe tbody tr th {\n",
       "        vertical-align: top;\n",
       "    }\n",
       "\n",
       "    .dataframe thead th {\n",
       "        text-align: right;\n",
       "    }\n",
       "</style>\n",
       "<table border=\"1\" class=\"dataframe\">\n",
       "  <thead>\n",
       "    <tr style=\"text-align: right;\">\n",
       "      <th></th>\n",
       "      <th>author</th>\n",
       "      <th>body</th>\n",
       "      <th>comment</th>\n",
       "      <th>n_replies</th>\n",
       "      <th>post</th>\n",
       "      <th>score</th>\n",
       "    </tr>\n",
       "  </thead>\n",
       "  <tbody>\n",
       "    <tr>\n",
       "      <th>0</th>\n",
       "      <td>akpommed</td>\n",
       "      <td>Elneny at the end picking it up with 3 attacke...</td>\n",
       "      <td>g4xe3hb</td>\n",
       "      <td>2.0</td>\n",
       "      <td>ircjx0</td>\n",
       "      <td>330.0</td>\n",
       "    </tr>\n",
       "    <tr>\n",
       "      <th>1</th>\n",
       "      <td>suxer</td>\n",
       "      <td>**LOVE** to finally see **Willian** in... blue...</td>\n",
       "      <td>g4xe3lb</td>\n",
       "      <td>2.0</td>\n",
       "      <td>ircjx0</td>\n",
       "      <td>276.0</td>\n",
       "    </tr>\n",
       "    <tr>\n",
       "      <th>2</th>\n",
       "      <td>J4ckrh</td>\n",
       "      <td>Both our debutants were brilliant, Willian man...</td>\n",
       "      <td>g4xe1qp</td>\n",
       "      <td>7.0</td>\n",
       "      <td>ircjx0</td>\n",
       "      <td>500.0</td>\n",
       "    </tr>\n",
       "    <tr>\n",
       "      <th>3</th>\n",
       "      <td>dannywelbad</td>\n",
       "      <td>You know Tierney is a great player when no-one...</td>\n",
       "      <td>g4xibyq</td>\n",
       "      <td>2.0</td>\n",
       "      <td>ircjx0</td>\n",
       "      <td>231.0</td>\n",
       "    </tr>\n",
       "    <tr>\n",
       "      <th>4</th>\n",
       "      <td>craigizard</td>\n",
       "      <td>Have a great weekend gunners</td>\n",
       "      <td>g4xe1wd</td>\n",
       "      <td>3.0</td>\n",
       "      <td>ircjx0</td>\n",
       "      <td>649.0</td>\n",
       "    </tr>\n",
       "  </tbody>\n",
       "</table>\n",
       "</div>"
      ],
      "text/plain": [
       "        author                                               body  comment  \\\n",
       "0     akpommed  Elneny at the end picking it up with 3 attacke...  g4xe3hb   \n",
       "1        suxer  **LOVE** to finally see **Willian** in... blue...  g4xe3lb   \n",
       "2       J4ckrh  Both our debutants were brilliant, Willian man...  g4xe1qp   \n",
       "3  dannywelbad  You know Tierney is a great player when no-one...  g4xibyq   \n",
       "4   craigizard                       Have a great weekend gunners  g4xe1wd   \n",
       "\n",
       "   n_replies    post  score  \n",
       "0        2.0  ircjx0  330.0  \n",
       "1        2.0  ircjx0  276.0  \n",
       "2        7.0  ircjx0  500.0  \n",
       "3        2.0  ircjx0  231.0  \n",
       "4        3.0  ircjx0  649.0  "
      ]
     },
     "execution_count": 14,
     "metadata": {},
     "output_type": "execute_result"
    }
   ],
   "source": [
    "comments_df.head()"
   ]
  },
  {
   "cell_type": "markdown",
   "metadata": {},
   "source": [
    "### EDA "
   ]
  },
  {
   "cell_type": "markdown",
   "metadata": {},
   "source": [
    "### Sentiment Analysis with VADER"
   ]
  },
  {
   "cell_type": "code",
   "execution_count": null,
   "metadata": {},
   "outputs": [],
   "source": []
  },
  {
   "cell_type": "code",
   "execution_count": null,
   "metadata": {},
   "outputs": [],
   "source": []
  },
  {
   "cell_type": "code",
   "execution_count": null,
   "metadata": {},
   "outputs": [],
   "source": []
  }
 ],
 "metadata": {
  "kernelspec": {
   "display_name": "'Python Interactive'",
   "language": "python",
   "name": "556ede28-59bb-41c7-b01c-4c815cabbeeb"
  },
  "language_info": {
   "codemirror_mode": {
    "name": "ipython",
    "version": 3
   },
   "file_extension": ".py",
   "mimetype": "text/x-python",
   "name": "python",
   "nbconvert_exporter": "python",
   "pygments_lexer": "ipython3",
   "version": "3.6.8"
  }
 },
 "nbformat": 4,
 "nbformat_minor": 4
}
