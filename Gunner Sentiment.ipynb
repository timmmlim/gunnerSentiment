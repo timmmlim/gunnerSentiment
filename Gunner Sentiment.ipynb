{
 "cells": [
  {
   "cell_type": "markdown",
   "metadata": {},
   "source": [
    "### Data Scraping\n",
    "\n",
    "Sentiment analysis on post-match threads from r/gunners"
   ]
  },
  {
   "cell_type": "code",
   "execution_count": 22,
   "metadata": {},
   "outputs": [
    {
     "name": "stdout",
     "output_type": "stream",
     "text": [
      "whatsGoingOn_brotha\n"
     ]
    }
   ],
   "source": [
    "import pandas as pd\n",
    "import configparser\n",
    "import praw\n",
    "\n",
    "config = configparser.ConfigParser()\n",
    "config.read(r\"C:\\Users\\Timothy Lim\\Documents\\credentials.ini\")\n",
    "\n",
    "credentials = config['reddit credentials']\n",
    "\n",
    "# login\n",
    "reddit = praw.Reddit(\n",
    "    client_id=credentials['client_id'],\n",
    "    client_secret=credentials['client_secret'],\n",
    "    username=credentials['username'],\n",
    "    password=credentials['password'],\n",
    "    user_agent=f\"testscript by u/{credentials['username']}\"\n",
    ")\n",
    "\n",
    "\n",
    "# print(reddit.user.me())"
   ]
  },
  {
   "cell_type": "code",
   "execution_count": 48,
   "metadata": {},
   "outputs": [],
   "source": [
    "# obtain the relevant posts\n",
    "gunners = reddit.subreddit('gunners')\n",
    "postMatch = gunners.search(query='flair_name:\"Post-Match Thread\"', sort='new')"
   ]
  },
  {
   "cell_type": "code",
   "execution_count": 61,
   "metadata": {},
   "outputs": [
    {
     "name": "stderr",
     "output_type": "stream",
     "text": [
      "100% |########################################################################|\n"
     ]
    }
   ],
   "source": [
    "# get the top 100 comments for each post\n",
    "from progressbar import ProgressBar\n",
    "\n",
    "comments = {}\n",
    "n_comments = 100\n",
    "pbar = ProgressBar()\n",
    "\n",
    "for post in pbar(list(postMatch)):\n",
    "    comments[post.title] = post.comments[:n_comments]"
   ]
  },
  {
   "cell_type": "code",
   "execution_count": null,
   "metadata": {},
   "outputs": [],
   "source": []
  },
  {
   "cell_type": "code",
   "execution_count": null,
   "metadata": {},
   "outputs": [],
   "source": []
  },
  {
   "cell_type": "code",
   "execution_count": null,
   "metadata": {},
   "outputs": [],
   "source": []
  }
 ],
 "metadata": {
  "kernelspec": {
   "display_name": "'Python Interactive'",
   "language": "python",
   "name": "556ede28-59bb-41c7-b01c-4c815cabbeeb"
  },
  "language_info": {
   "codemirror_mode": {
    "name": "ipython",
    "version": 3
   },
   "file_extension": ".py",
   "mimetype": "text/x-python",
   "name": "python",
   "nbconvert_exporter": "python",
   "pygments_lexer": "ipython3",
   "version": "3.6.8"
  }
 },
 "nbformat": 4,
 "nbformat_minor": 4
}
